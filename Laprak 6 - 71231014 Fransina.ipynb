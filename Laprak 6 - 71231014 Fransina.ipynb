{
 "cells": [
  {
   "cell_type": "code",
   "execution_count": null,
   "id": "6eae9dbb",
   "metadata": {},
   "outputs": [],
   "source": [
    "#Latihan mandiri 6.1\n",
    "\n",
    "def prima(t):\n",
    "    a = 0\n",
    "    prima = []\n",
    "    for i in range(1, t+1):\n",
    "        for j in range(1, i+1):\n",
    "            if i%j == 0:\n",
    "                a = a+1\n",
    "        if a == 2:\n",
    "            prima = prima + [i]\n",
    "            a = 0\n",
    "        else:\n",
    "            a = 0\n",
    "    x = max(prima)\n",
    "    return x\n",
    "\n",
    "m = int(input(\"Masukan bilangan : \"))\n",
    "print(\"Bilangan prima terdekat adalah: \",prima(m))"
   ]
  },
  {
   "cell_type": "code",
   "execution_count": null,
   "id": "26670236",
   "metadata": {},
   "outputs": [],
   "source": [
    "#Latihan mandiri 6.2\n",
    "\n",
    "def faktorial(n):\n",
    "    nilai = 1\n",
    "    angka = []\n",
    "    for i in range(1, n+1):\n",
    "        nilai = nilai*1\n",
    "        angka = angka+[nilai]\n",
    "    angka.reverse()\n",
    "    return angka\n",
    "def jajargenjang(t):\n",
    "    for j in range(n,0,-1):\n",
    "        print(j,end = \" \")\n",
    "    return\n",
    "\n",
    "n = int(input(\"Masukan input n: \"))\n",
    "w = faktorial(n)\n",
    "\n",
    "for kebawah in w :\n",
    "    print(kebawah, end= \" \")\n",
    "    jajargenjang(n)\n",
    "    print()\n",
    "    n = n-1\n"
   ]
  },
  {
   "cell_type": "code",
   "execution_count": null,
   "id": "7e0ac5ce",
   "metadata": {},
   "outputs": [],
   "source": [
    "#Latihan mandiri 6.3\n",
    "\n",
    "t = int(input(\"Masukkan tinggi: \"))\n",
    "l = int(input(\"Masukkan lebar: \"))\n",
    "kali = t*l\n",
    "\n",
    "for i in range(1, kali+1):\n",
    "    if i % l == 0:\n",
    "        print(i)\n",
    "        \n",
    "    else:\n",
    "        print(i, end=\" \")"
   ]
  }
 ],
 "metadata": {
  "kernelspec": {
   "display_name": "Python 3 (ipykernel)",
   "language": "python",
   "name": "python3"
  },
  "language_info": {
   "codemirror_mode": {
    "name": "ipython",
    "version": 3
   },
   "file_extension": ".py",
   "mimetype": "text/x-python",
   "name": "python",
   "nbconvert_exporter": "python",
   "pygments_lexer": "ipython3",
   "version": "3.11.5"
  }
 },
 "nbformat": 4,
 "nbformat_minor": 5
}
